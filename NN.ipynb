{
 "cells": [
  {
   "cell_type": "code",
   "execution_count": 16,
   "metadata": {
    "collapsed": false
   },
   "outputs": [],
   "source": [
    "#\n",
    "import numpy as np\n",
    "import pandas\n",
    "\n",
    "# Сигмоида \n",
    "def f(x):\n",
    "    return x\n",
    "\n",
    "def nonlin(x,deriv=False):\n",
    "    if(deriv==True):\n",
    "        return f(x)*(1-f(x))\n",
    "    return 1/(1+np.exp(-x))\n",
    "    \n",
    "# набор входных данных\n",
    "data = pandas.read_csv('train.csv')\n",
    "y_train = data[\"label\"] # 42000\n",
    "\n",
    "X_train = data.drop(\"label\", axis = 1) # 42000 * 784\n",
    "#возьмём нейроны по 98 входов: 8*98 = 784\n",
    "#будет ещё выходной нейрон с 8 входами\n"
   ]
  },
  {
   "cell_type": "code",
   "execution_count": 23,
   "metadata": {
    "collapsed": false
   },
   "outputs": [
    {
     "data": {
      "text/plain": [
       "array([[ 0.34556073,  0.39676747,  0.53881673,  0.41919451,  0.6852195 ,\n",
       "         0.20445225,  0.87811744,  0.02738759,  0.67046751,  0.4173048 ]])"
      ]
     },
     "execution_count": 23,
     "metadata": {},
     "output_type": "execute_result"
    }
   ],
   "source": []
  },
  {
   "cell_type": "code",
   "execution_count": 53,
   "metadata": {
    "collapsed": false
   },
   "outputs": [
    {
     "data": {
      "text/plain": [
       "array([ 0.96150447])"
      ]
     },
     "execution_count": 53,
     "metadata": {},
     "output_type": "execute_result"
    }
   ],
   "source": [
    "class N1:\n",
    "    \"neiron with N inputs\"\n",
    "    def __init__(self, numberW = 1):\n",
    "        self.Weights = np.random.random((numberW,1))\n",
    "    def sigmoid(x):\n",
    "        return 1/(1+np.exp(-x))\n",
    "    \n",
    "    def predict(self,X, f = sigmoid):\n",
    "        return f(np.dot(X,self.Weights))\n",
    "    def learning(self, error):\n",
    "        \n",
    "    \n",
    "x = N1(10)\n",
    "x.predict(np.array([1,1,1,1,1,1,1,1,1,1]))"
   ]
  }
 ],
 "metadata": {
  "kernelspec": {
   "display_name": "Python 2",
   "language": "python",
   "name": "python2"
  },
  "language_info": {
   "codemirror_mode": {
    "name": "ipython",
    "version": 2
   },
   "file_extension": ".py",
   "mimetype": "text/x-python",
   "name": "python",
   "nbconvert_exporter": "python",
   "pygments_lexer": "ipython2",
   "version": "2.7.11"
  }
 },
 "nbformat": 4,
 "nbformat_minor": 0
}
