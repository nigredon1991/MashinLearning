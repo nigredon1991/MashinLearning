{
 "cells": [
  {
   "cell_type": "code",
   "execution_count": 1,
   "metadata": {
    "collapsed": false
   },
   "outputs": [],
   "source": [
    "#\n",
    "import numpy as np\n",
    "import pandas\n",
    "\n",
    "# Сигмоида \n",
    "def f(x):\n",
    "    return x\n",
    "\n",
    "def nonlin(x,deriv=False):\n",
    "    if(deriv==True):\n",
    "        return f(x)*(1-f(x))\n",
    "    return 1/(1+np.exp(-x))\n",
    "    \n",
    "# набор входных данных\n",
    "data = pandas.read_csv('train.csv')\n",
    "y_train = data[\"label\"] # 42000\n",
    "\n",
    "X_train = data.drop(\"label\", axis = 1) # 42000 * 784\n",
    "#возьмём нейроны по 98 входов: 8*98 = 784\n",
    "#будет ещё выходной нейрон с 8 входами\n"
   ]
  },
  {
   "cell_type": "code",
   "execution_count": 2,
   "metadata": {
    "collapsed": false
   },
   "outputs": [],
   "source": [
    "\n",
    "def MyMod(x):\n",
    "    if(x<0):\n",
    "        return -x\n",
    "    else: \n",
    "        return x\n",
    "\n",
    "def sigmoid(x,deriv=False):\n",
    "    if(deriv==True):\n",
    "        return (x*(1-x))\n",
    "    return 1/(1+np.exp(-x))\n",
    "\n",
    "\n",
    "class NN:\n",
    "    \"neiral network direct propagation\"\n",
    "    def __init__(self, size_in, size_hidden, size_out):\n",
    "        self.size_in = size_in\n",
    "        self.size_hidden = size_hidden\n",
    "        self.size_out = size_out\n",
    "        self.input = np.ones(size_in)\n",
    "        self.weights0 = np.random.random([size_in,size_hidden])\n",
    "        self.hidden = np.ones(size_hidden)\n",
    "        self.free_mem_h = np.random.random(size_hidden)\n",
    "        self.train_values_h = np.zeros(size_hidden)####\n",
    "        self.weights1 = np.random.random([size_hidden, size_out])\n",
    "        \n",
    "        self.out = np.ones(size_out)\n",
    "        self.free_mem_out = np.random.random(size_out)\n",
    "        self.train_values_out = np.zeros(size_out)\n",
    "    \n",
    "    def predict(self,X):\n",
    "        if(len(X)!= self.size_in):\n",
    "            print(\"Bad len input\")\n",
    "            return 0\n",
    "        ######Проход скрытого слоя\n",
    "        for i in range(0,self.size_in-1):\n",
    "            for j in range(0,self.size_hidden-1):\n",
    "                self.train_values_h[j] += self.weights0[i][j]*X[i]\n",
    "        for i in range(0,self.size_hidden-1):\n",
    "            self.train_values_h[i] += self.free_mem_h[i]\n",
    "        for i in range(0,self.size_hidden-1):\n",
    "            self.train_values_h[i] = sigmoid(self.train_values_h[i])\n",
    "        ##########Проход выходного слоя\n",
    "        for i in range(0,self.size_hidden-1):\n",
    "            for j in range(0,self.size_out-1):\n",
    "                self.train_values_out[j] += self.weights1[i][j]*self.train_values_h[i]\n",
    "        for i in range(0,self.size_out-1):\n",
    "            self.train_values_out[i] += self.free_mem_out[i]\n",
    "        for i in range(0,self.size_out-1):\n",
    "            self.train_values_out[i] = sigmoid(self.train_values_out[i])\n",
    "        return self.train_values_out\n",
    "    \n",
    "    def learning(self, X,y, coef=0.1):\n",
    "        if(len(X)!= self.size_in):\n",
    "            print(\"Bad len input\")\n",
    "            return 0\n",
    "        ######Проход скрытого слоя\n",
    "        for i in range(0,self.size_in-1):\n",
    "            for j in range(0,self.size_hidden-1):\n",
    "                self.train_values_h[j] += self.weights0[i][j]*X[i]\n",
    "        for i in range(0,self.size_hidden-1):\n",
    "            self.train_values_h[i] += self.free_mem_h[i]\n",
    "        for i in range(0,self.size_hidden-1):\n",
    "            self.train_values_h[i] = sigmoid(self.train_values_h[i])\n",
    "        ##########Проход выходного слоя\n",
    "        for i in range(0,self.size_hidden-1):\n",
    "            for j in range(0,self.size_out-1):\n",
    "                self.train_values_out[j] += self.weights1[i][j]*self.train_values_h[i]\n",
    "        for i in range(0,self.size_out-1):\n",
    "            self.train_values_out[i] += self.free_mem_out[i]\n",
    "        for i in range(0,self.size_out-1):\n",
    "            self.train_values_out[i] = sigmoid(self.train_values_out[i])\n",
    "        ###########Вычисление ошибки и обучение сети\n",
    "        delta = 0\n",
    "        if(self.train_values_out[np.argmax(y)] != 1):\n",
    "            k = np.argmax(y)\n",
    "            delta = 1 - self.train_values_out[k]\n",
    "            for i in range(0,self.size_hidden-1):\n",
    "                self.weights1[i][k] = self.weights1[i][k] + delta * coef * self.train_values_out[k] * sigmoid(self.train_values_out[k],deriv = True)\n",
    "                self.free_mem_out[i] = self.free_mem_out[i] + delta * coef * self.train_values_out[k] * sigmoid(self.train_values_out[k],deriv = True)\n",
    "            for i in range(0,self.size_in-1):\n",
    "                for j in range(0,self.size_hidden-1):\n",
    "                    self.weights0[i][j] += delta *self.weights1[j][k] * coef * self.train_values_h[j] * sigmoid(self.train_values_h[j], deriv = True)\n",
    "                    self.free_mem_h[j] += delta *self.weights1[j][k] * coef * self.train_values_h[j] * sigmoid(self.train_values_h[j], deriv = True)\n",
    "        return delta\n",
    "    \n",
    " \n"
   ]
  },
  {
   "cell_type": "code",
   "execution_count": 31,
   "metadata": {
    "collapsed": false
   },
   "outputs": [
    {
     "name": "stdout",
     "output_type": "stream",
     "text": [
      "0.182824043618\n",
      "1.0\n",
      "1.0\n",
      "0.0676974678459\n",
      "0.0707387526721\n",
      "1.0\n",
      "1.0\n",
      "0.0674338955962\n",
      "0.0705473499571\n",
      "1.0\n",
      "1.0\n",
      "0.0672384318626\n",
      "0.0703652536906\n",
      "1.0\n",
      "1.0\n",
      "0.0670455518493\n",
      "0.0701851229697\n",
      "1.0\n",
      "1.0\n",
      "0.0668551889555\n",
      "0.0700069191819\n",
      "1.0\n",
      "1.0\n",
      "0.0666672897645\n",
      "0.0698306061882\n",
      "1.0\n",
      "1.0\n",
      "0.0664818021218\n",
      "0.0696561486553\n",
      "1.0\n",
      "1.0\n",
      "0.0662986751097\n",
      "0.0694835120399\n",
      "1.0\n",
      "1.0\n",
      "0.0661178590241\n",
      "0.0693126625745\n",
      "1.0\n",
      "1.0\n",
      "0.0659393053519\n",
      "0\n",
      "[ 0.93085643  0.        ]\n",
      "1\n",
      "[ 0.93411872  0.        ]\n",
      "2\n",
      "[ 0.9308615  0.       ]\n",
      "3\n",
      "[ 0.93411916  0.        ]\n"
     ]
    }
   ],
   "source": [
    "X =np.array( [[0,0],\n",
    "    [1,0],\n",
    "    [0,1],\n",
    "    [1,1]])\n",
    "\n",
    "y =np.array( [[1,0],[0,1],[0,1],[1,0]])\n",
    "\n",
    "MyNN = NN( 2,2,2)\n",
    "\n",
    "for j in range (0,10):\n",
    "    for i in range(0,4):\n",
    "        print MyNN.learning(X = X[i],y = y[i])\n",
    "\n",
    "for i in range(0,4):\n",
    "    print i\n",
    "    print MyNN.predict(X[i])"
   ]
  },
  {
   "cell_type": "code",
   "execution_count": 29,
   "metadata": {
    "collapsed": false
   },
   "outputs": [
    {
     "data": {
      "text/plain": [
       "[0, 1, 2, 3]"
      ]
     },
     "execution_count": 29,
     "metadata": {},
     "output_type": "execute_result"
    }
   ],
   "source": [
    "range(0,4)"
   ]
  }
 ],
 "metadata": {
  "kernelspec": {
   "display_name": "Python 2",
   "language": "python",
   "name": "python2"
  },
  "language_info": {
   "codemirror_mode": {
    "name": "ipython",
    "version": 2
   },
   "file_extension": ".py",
   "mimetype": "text/x-python",
   "name": "python",
   "nbconvert_exporter": "python",
   "pygments_lexer": "ipython2",
   "version": "2.7.11"
  }
 },
 "nbformat": 4,
 "nbformat_minor": 0
}
