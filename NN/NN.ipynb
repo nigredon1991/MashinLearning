{
 "cells": [
  {
   "cell_type": "code",
   "execution_count": 16,
   "metadata": {},
   "outputs": [],
   "source": [
    "#\n",
    "import numpy as np\n",
    "import pandas\n",
    "\n",
    "# Сигмоида \n",
    "def f(x):\n",
    "    return x\n",
    "\n",
    "def nonlin(x,deriv=False):\n",
    "    if(deriv==True):\n",
    "        return f(x)*(1-f(x))\n",
    "    return 1/(1+np.exp(-x))\n",
    "    \n",
    "# набор входных данных\n",
    "data = pandas.read_csv('train.csv')\n",
    "y_train = data[\"label\"] # 42000\n",
    "\n",
    "X_train = data.drop(\"label\", axis = 1) # 42000 * 784\n",
    "#возьмём нейроны по 98 входов: 8*98 = 784\n",
    "#будет ещё выходной нейрон с 8 входами"
   ]
  },
  {
   "cell_type": "code",
   "execution_count": 23,
   "metadata": {},
   "outputs": [
    {
     "data": {
      "text/plain": [
       "array([[ 0.34556073,  0.39676747,  0.53881673,  0.41919451,  0.6852195 ,\n",
       "         0.20445225,  0.87811744,  0.02738759,  0.67046751,  0.4173048 ]])"
      ]
     },
     "execution_count": 23,
     "output_type": "execute_result",
     "metadata": {}
    }
   ],
   "source": [
    ""
   ]
  },
  {
   "cell_type": "code",
   "execution_count": 3,
   "metadata": {},
   "outputs": [
    {
     "ename": "IndentationError",
     "evalue": "expected an indented block (<ipython-input-3-b42567f1a0e8>, line 16)",
     "output_type": "error",
     "traceback": [
      "\u001b[1;36m  File \u001b[1;32m\"<ipython-input-3-b42567f1a0e8>\"\u001b[1;36m, line \u001b[1;32m16\u001b[0m\n\u001b[1;33m    #x.predict(np.array([1,1,1,1,1,1,1,1,1,1]))\u001b[0m\n\u001b[1;37m                                               ^\u001b[0m\n\u001b[1;31mIndentationError\u001b[0m\u001b[1;31m:\u001b[0m expected an indented block\n"
     ]
    }
   ],
   "source": [
    "class N1:\n",
    "    \"neiron with N inputs\"\n",
    "    def __init__(self, numberW = 1,f = sigmoid):\n",
    "        self.Weights = np.random.random((numberW,1))\n",
    "        self.f = f\n",
    "    def sigmoid(x):\n",
    "        return 1/(1+np.exp(-x))\n",
    "    \n",
    "    def predict(self,X, f = sigmoid):\n",
    "        return f(np.dot(X,self.Weights))\n",
    "    def learning(self, error):\n",
    "        \n",
    "        \n",
    "    \n",
    "#x = N1(10)\n",
    "#x.predict(np.array([1,1,1,1,1,1,1,1,1,1]))"
   ]
  }
 ],
 "metadata": {
  "kernelspec": {
   "display_name": "Python 2",
   "language": "python",
   "name": "python2"
  },
  "language_info": {
   "codemirror_mode": {
    "name": "ipython",
    "version": 2.0
   },
   "file_extension": ".py",
   "mimetype": "text/x-python",
   "name": "python",
   "nbconvert_exporter": "python",
   "pygments_lexer": "ipython2",
   "version": "2.7.11"
  }
 },
 "nbformat": 4,
 "nbformat_minor": 0
}