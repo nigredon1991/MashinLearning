{
 "cells": [
  {
   "cell_type": "code",
   "execution_count": 1,
   "metadata": {
    "collapsed": false
   },
   "outputs": [],
   "source": [
    "#\n",
    "import numpy as np\n",
    "import pandas\n",
    "\n",
    "\n",
    "def f(x):\n",
    "    return x\n",
    "\n",
    "def nonlin(x,deriv=False):\n",
    "    if(deriv==True):\n",
    "        return f(x)*(1-f(x))\n",
    "    return 1/(1+np.exp(-x))\n",
    "    \n",
    "\n",
    "def MyMod(x):\n",
    "    if(x<0):\n",
    "        return -x\n",
    "    else:\n",
    "        return x\n",
    "\n",
    "def sigmoid(x,deriv=False):\n",
    "    if(deriv==True):\n",
    "        return (x*(1-x))\n",
    "    return 1/(1+np.exp(-x))\n",
    "\n",
    "import json\n"
   ]
  },
  {
   "cell_type": "code",
   "execution_count": 32,
   "metadata": {
    "collapsed": false
   },
   "outputs": [],
   "source": [
    "\n",
    "class NN:\n",
    "    \"neiral network direct propagation\"\n",
    "    def __init__(self, size_in, size_hidden, size_out):\n",
    "        self.size_in = size_in\n",
    "        self.size_hidden = size_hidden\n",
    "        self.size_out = size_out\n",
    "        self.input = np.ones(size_in)\n",
    "        self.weights0 = np.random.random([size_in,size_hidden])-0.5\n",
    "        self.delta_hidden = np.zeros(size_hidden)\n",
    "        self.free_mem_h = np.ones(size_hidden)*0.5\n",
    "        self.train_values_h = np.zeros(size_hidden)####\n",
    "        self.weights1 = np.random.random([size_hidden, size_out])-0.5\n",
    "        self.delta_out = np.zeros(size_out)\n",
    "        self.free_mem_out = np.ones(size_out)*0.5\n",
    "        self.train_values_out = np.random.random(size_out)\n",
    "\n",
    "    def predict(self,X):\n",
    "        if(len(X)!= self.size_in):\n",
    "            print(\"Bad len input\")\n",
    "            return 0\n",
    "        ######\n",
    "        for i in range(0,self.size_in ):\n",
    "            for j in range(0,self.size_hidden ):\n",
    "                self.train_values_h[j] += self.weights0[i][j]*X[i]\n",
    "        for i in range(0,self.size_hidden ):\n",
    "            self.train_values_h[i] += self.free_mem_h[i]\n",
    "        for i in range(0,self.size_hidden ):\n",
    "            self.train_values_h[i] = sigmoid(self.train_values_h[i])\n",
    "        ##########\n",
    "        for i in range(0,self.size_hidden ):\n",
    "            for j in range(0,self.size_out ):\n",
    "                self.train_values_out[j] += self.weights1[i][j]*self.train_values_h[i]\n",
    "        for i in range(0,self.size_out ):\n",
    "            self.train_values_out[i] += self.free_mem_out[i]\n",
    "        for i in range(0,self.size_out ):\n",
    "            self.train_values_out[i] = sigmoid(self.train_values_out[i])\n",
    "        return self.train_values_out\n",
    "        \n",
    "    def learning(self, X,y, coef=0.1):\n",
    "        if(len(X)!= self.size_in):\n",
    "            print(\"Bad len input\")\n",
    "            return 0\n",
    "        for i in range(0,self.size_in ):\n",
    "            for j in range(0,self.size_hidden ):\n",
    "                self.train_values_h[j] += self.weights0[i][j]*X[i]\n",
    "        for i in range(0,self.size_hidden ):\n",
    "            self.train_values_h[i] += self.free_mem_h[i]\n",
    "        for i in range(0,self.size_hidden ):\n",
    "            self.train_values_h[i] = sigmoid(self.train_values_h[i])\n",
    "        ##########\n",
    "        for i in range(0,self.size_hidden ):\n",
    "            for j in range(0,self.size_out ):\n",
    "                self.train_values_out[j] += self.weights1[i][j]*self.train_values_h[i]\n",
    "        for i in range(0,self.size_out ):\n",
    "            self.train_values_out[i] += self.free_mem_out[i]\n",
    "        for i in range(0,self.size_out ):\n",
    "            self.train_values_out[i] = sigmoid(self.train_values_out[i])\n",
    "        self.delta_out = y - self.train_values_out\n",
    "        \n",
    "        for k in range(0,self.size_out):\n",
    "            self.delta_out[k] = self.delta_out[k] * coef * sigmoid(self.train_values_out[k],deriv = True)\n",
    "            \n",
    "        self.delta_hidden = np.dot(self.weights1,self.delta_out)\n",
    "        for k in range(0,self.size_hidden):\n",
    "            self.delta_hidden[k] * coef * sigmoid(self.train_values_h[k],deriv = True)\n",
    "            \n",
    "        self.weights1 +=  - np.dot(self.delta_out[:,None],self.train_values_h[:,None].T).T\n",
    "        # c = np.dot(b[:,None],a[:,None].T)\n",
    "        self.weights0 += - np.dot(self.delta_hidden[:,None],X[:,None].T).T\n",
    "        return 1\n",
    "    def saveP(self):\n",
    "        import pickle\n",
    "        with open('data.pickle', 'wb') as f:\n",
    "            pickle.dump(self, f)\n",
    "    def load(self):\n",
    "        import pickle\n",
    "        with open('data.pickle', 'rb') as f:\n",
    "            self_new = pickle.load(f)\n",
    "            self.size_in = self_new.size_in\n",
    "            self.size_hidden = self_new.size_hidden\n",
    "            self.size_out = self_new.size_out\n",
    "            self.input = np.ones(size_in)\n",
    "            self.weights0 = np.random.random([size_in,size_hidden])-0.5\n",
    "            self.delta_hidden = np.zeros(size_hidden)\n",
    "            self.free_mem_h = np.ones(size_hidden)*0.5\n",
    "            self.train_values_h = np.zeros(size_hidden)####\n",
    "            self.weights1 = np.random.random([size_hidden, size_out])-0.5\n",
    "            self.delta_out = np.zeros(size_out)\n",
    "            self.free_mem_out = np.ones(size_out)*0.5\n",
    "            self.train_values_out = np.random.random(size_out)\n",
    "        print self"
   ]
  },
  {
   "cell_type": "code",
   "execution_count": 33,
   "metadata": {
    "collapsed": false
   },
   "outputs": [
    {
     "name": "stderr",
     "output_type": "stream",
     "text": [
      "C:\\Anaconda2\\lib\\site-packages\\sklearn\\utils\\validation.py:420: DataConversionWarning: Data with input dtype int64 was converted to float64 by MinMaxScaler.\n",
      "  warnings.warn(msg, DataConversionWarning)\n"
     ]
    }
   ],
   "source": [
    "data = pandas.read_csv('train.csv')\n",
    "y_train = data[\"label\"] # 42000\n",
    "\n",
    "X_train = data.drop(\"label\", axis = 1) # 42000 * 784\n",
    "X_train = X_train.as_matrix()\n",
    "#import sklearn.preprocessing as sk\n",
    "#X_train = sk.normalize(X_train,norm='l2')\n",
    "from sklearn import preprocessing\n",
    "min_max_scaler = preprocessing.MinMaxScaler()\n",
    "X_train = min_max_scaler.fit_transform(X_train)\n",
    "from time import time"
   ]
  },
  {
   "cell_type": "code",
   "execution_count": 54,
   "metadata": {
    "collapsed": false
   },
   "outputs": [
    {
     "name": "stdout",
     "output_type": "stream",
     "text": [
      "1481082771.93\n",
      "<__main__.NN instance at 0x0000000019A423C8>\n"
     ]
    },
    {
     "data": {
      "text/plain": [
       "array([ 0.08657027,  0.08522509,  0.15228337,  0.6158349 ,  0.42412503,\n",
       "        0.93968583,  0.12180191,  0.37599953,  0.80789492,  0.25606389])"
      ]
     },
     "execution_count": 54,
     "metadata": {},
     "output_type": "execute_result"
    }
   ],
   "source": [
    "\n",
    "t = time()\n",
    "\n",
    "\n",
    "MyNN = NN( 784,100,10)\n",
    "\n",
    "y_temp = np.zeros(10)\n",
    "print t\n",
    "#MyNN.saveP()\n",
    "MyNN.load()\n",
    "MyNN.train_values_out\n",
    "#for i in range (1,1000):\n",
    "#    print time()\n",
    "#    for j in range(0,10):\n",
    "#        y_temp[y_train[i]] = 1\n",
    "#        MyNN.learning(X = X_train[i],y = y_temp,coef =0.1)\n",
    "#        y_temp[y_train[i]] = 0\n",
    "        \n",
    "#for i in range(20000,20200):\n",
    "#    print np.argmax(MyNN.predict(X_train[i])) == y_train[i]\n"
   ]
  },
  {
   "cell_type": "code",
   "execution_count": 171,
   "metadata": {
    "collapsed": false
   },
   "outputs": [
    {
     "data": {
      "text/plain": [
       "0.0"
      ]
     },
     "execution_count": 171,
     "metadata": {},
     "output_type": "execute_result"
    }
   ],
   "source": []
  }
 ],
 "metadata": {
  "kernelspec": {
   "display_name": "Python 2",
   "language": "python",
   "name": "python2"
  },
  "language_info": {
   "codemirror_mode": {
    "name": "ipython",
    "version": 2
   },
   "file_extension": ".py",
   "mimetype": "text/x-python",
   "name": "python",
   "nbconvert_exporter": "python",
   "pygments_lexer": "ipython2",
   "version": "2.7.11"
  }
 },
 "nbformat": 4,
 "nbformat_minor": 0
}
